{
 "cells": [
  {
   "cell_type": "code",
   "execution_count": 4,
   "metadata": {},
   "outputs": [],
   "source": [
    "import time"
   ]
  },
  {
   "cell_type": "code",
   "execution_count": 8,
   "metadata": {},
   "outputs": [],
   "source": [
    "# unix_timestamp  = int(\"1284101485\")\n",
    "unix_timestamp  = int(\"1641573091190\")"
   ]
  },
  {
   "cell_type": "code",
   "execution_count": 9,
   "metadata": {},
   "outputs": [
    {
     "ename": "OSError",
     "evalue": "[Errno 22] Invalid argument",
     "output_type": "error",
     "traceback": [
      "\u001b[1;31m---------------------------------------------------------------------------\u001b[0m",
      "\u001b[1;31mOSError\u001b[0m                                   Traceback (most recent call last)",
      "\u001b[1;32m~\\AppData\\Local\\Temp/ipykernel_11996/1387160004.py\u001b[0m in \u001b[0;36m<module>\u001b[1;34m\u001b[0m\n\u001b[1;32m----> 1\u001b[1;33m \u001b[0mutc_time\u001b[0m \u001b[1;33m=\u001b[0m \u001b[0mtime\u001b[0m\u001b[1;33m.\u001b[0m\u001b[0mgmtime\u001b[0m\u001b[1;33m(\u001b[0m\u001b[0munix_timestamp\u001b[0m\u001b[1;33m)\u001b[0m\u001b[1;33m\u001b[0m\u001b[1;33m\u001b[0m\u001b[0m\n\u001b[0m",
      "\u001b[1;31mOSError\u001b[0m: [Errno 22] Invalid argument"
     ]
    }
   ],
   "source": [
    "utc_time = time.gmtime(unix_timestamp)"
   ]
  },
  {
   "cell_type": "code",
   "execution_count": 6,
   "metadata": {},
   "outputs": [],
   "source": [
    "local_time = time.localtime(unix_timestamp)"
   ]
  },
  {
   "cell_type": "code",
   "execution_count": 7,
   "metadata": {},
   "outputs": [
    {
     "name": "stdout",
     "output_type": "stream",
     "text": [
      "2010-09-10 03:51:25\n",
      "2010-09-10 06:51:25+00:00 (UTC)\n"
     ]
    }
   ],
   "source": [
    "print(time.strftime(\"%Y-%m-%d %H:%M:%S\", local_time)) \n",
    "print(time.strftime(\"%Y-%m-%d %H:%M:%S+00:00 (UTC)\", utc_time)) "
   ]
  },
  {
   "cell_type": "markdown",
   "metadata": {},
   "source": [
    "# TESTE 2\n",
    "___"
   ]
  },
  {
   "cell_type": "code",
   "execution_count": 22,
   "metadata": {},
   "outputs": [
    {
     "name": "stdout",
     "output_type": "stream",
     "text": [
      "2022-01-07 13:31:31.190\n",
      "2022-01-07 13:31:31.190\n",
      "2022-01-07 13:31:31.190\n"
     ]
    }
   ],
   "source": [
    "import datetime\n",
    "\n",
    "timestamp_with_ms = 1641573091190\n",
    "\n",
    "dt = datetime.datetime.fromtimestamp(timestamp_with_ms / 1000)\n",
    "dt2 = datetime.datetime.fromtimestamp(timestamp_with_ms / 1000).isoformat(sep=' ', timespec='milliseconds')\n",
    "\n",
    "formatted_time = dt.strftime('%Y-%m-%d %H:%M:%S.%f')[:-3]\n",
    "\n",
    "# With Python 3.6, you could use:\n",
    "formatted_time2 = dt.isoformat(sep=' ', timespec='milliseconds')\n",
    "\n",
    "print(formatted_time)\n",
    "print(formatted_time2)\n",
    "print(dt2)\n",
    "# 2017-04-08 03:07:57.888"
   ]
  }
 ],
 "metadata": {
  "interpreter": {
   "hash": "e9aa689edf4e3253ce592293dcc69d32d3ef370148852f3558b2d441f5963c91"
  },
  "kernelspec": {
   "display_name": "Python 3.9.7 64-bit ('base': conda)",
   "language": "python",
   "name": "python3"
  },
  "language_info": {
   "codemirror_mode": {
    "name": "ipython",
    "version": 3
   },
   "file_extension": ".py",
   "mimetype": "text/x-python",
   "name": "python",
   "nbconvert_exporter": "python",
   "pygments_lexer": "ipython3",
   "version": "3.9.7"
  },
  "orig_nbformat": 4
 },
 "nbformat": 4,
 "nbformat_minor": 2
}
